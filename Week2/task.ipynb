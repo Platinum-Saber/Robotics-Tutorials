{
 "cells": [
  {
   "cell_type": "markdown",
   "metadata": {},
   "source": [
    "# 3D Rotation\n",
    "3D Rotation can be represented in different ways as discussed in last week's lectures.\n",
    "These include:\n",
    "1.\tRotation matrices\n",
    "2.  Three angle representation\n",
    "3.\tTwo vector representation\n",
    "4.\tRotation about an eigen vector\n",
    "5.\tUnit quaternion\n",
    "6.\tMatrix exponential\n",
    "\n",
    "We explored the `rotation matrices` approach in last weeks lab exercise.\n",
    "\n",
    "This lab is designed for you to implement rotation matrices in each of those different methods."
   ]
  },
  {
   "cell_type": "code",
   "execution_count": 12,
   "metadata": {},
   "outputs": [],
   "source": [
    "# import required libraries\n",
    "import numpy as np\n",
    "import matplotlib.pyplot as plt\n",
    "# To render plots inline\n",
    "%matplotlib inline\n",
    "\n",
    "# For unit tests\n",
    "from tester import LabTester\n",
    "lab_tester = LabTester()"
   ]
  },
  {
   "cell_type": "code",
   "execution_count": 13,
   "metadata": {},
   "outputs": [],
   "source": [
    "def rotation_three_angle(alpha:float, gamma:float, theta:float, p:np.ndarray) -> np.ndarray:\n",
    "    \"\"\"\n",
    "    Input:\n",
    "        alpha, gamma, theta - Euler angles of rotation about the axes (x, y, x)\n",
    "        p                   - The vector to be transformed\n",
    "    Output: resulting coordinates after appyling the rotation\n",
    "    \"\"\"\n",
    "    # Your code here - Use Euler angles method => (x,y,x)\n",
    "    alpha = np.radians(alpha)\n",
    "    gamma = np.radians(gamma)\n",
    "    theta = np.radians(theta)\n",
    "\n",
    "    Rx1 = np.array([[1,0,0], [0, np.cos(alpha), -np.sin(alpha)], [0, np.sin(alpha), np.cos(alpha)]])\n",
    "    Ry = np.array([[np.cos(gamma), 0, np.sin(gamma)], [0, 1, 0], [-np.sin(gamma), 0, np.cos(gamma)]])\n",
    "    Rx2 = np.array([[1,0,0], [0, np.cos(theta), -np.sin(theta)], [0, np.sin(theta), np.cos(theta)]])    \n",
    "    \n",
    "    R = Rx1 @ Ry @ Rx2\n",
    "    p = R @ p\n",
    "    return p"
   ]
  },
  {
   "cell_type": "code",
   "execution_count": 14,
   "metadata": {},
   "outputs": [
    {
     "name": "stdout",
     "output_type": "stream",
     "text": [
      "\n",
      "=== Testing Three Angle Rotation Implementation ===\n",
      "✅ No Rotation\n",
      "✅ 45 Degree Rotation\n",
      "✅ Full Rotation\n",
      "✅ Negative 45 Degree Rotation\n"
     ]
    }
   ],
   "source": [
    "# Run test cases\n",
    "lab_tester.test_rotation_three_angle(rotation_three_angle)"
   ]
  },
  {
   "cell_type": "code",
   "execution_count": 15,
   "metadata": {},
   "outputs": [],
   "source": [
    "import numpy as np\n",
    "\n",
    "def rotation_two_vector(a_v: np.ndarray, o_v: np.ndarray, p: np.ndarray) -> np.ndarray:\n",
    "    \"\"\"\n",
    "    Rotates a point 'p' so that the 'a_v' (approach vector) aligns with 'o_v' (orientation vector)\n",
    "    using the two-vector representation method.\n",
    "\n",
    "    Parameters:\n",
    "        a_v (np.ndarray): Approach vector (initial direction).\n",
    "        o_v (np.ndarray): Orientation vector (desired direction).\n",
    "        p (np.ndarray): The point to be transformed.\n",
    "\n",
    "    Returns:\n",
    "        np.ndarray: Transformed coordinates after applying the rotation.\n",
    "    \"\"\"\n",
    "    # Normalize vectors\n",
    "    a_v = a_v / np.linalg.norm(a_v)\n",
    "    o_v = o_v / np.linalg.norm(o_v)\n",
    "\n",
    "    angle = np.arccos(np.clip(np.dot(a_v, o_v), -1.0, 1.0))\n",
    "    if angle == 0:\n",
    "        return p\n",
    "    if angle == np.pi:\n",
    "        return -p\n",
    "\n",
    "    # Compute the normal vector (perpendicular to both a_v and o_v)\n",
    "    n = np.cross(o_v, a_v)\n",
    "    n_norm = np.linalg.norm(n)\n",
    "\n",
    "    n /= n_norm  # Normalize the normal vector\n",
    "\n",
    "    o_v = np.cross(a_v, n)  # Update orientation vector\n",
    "    o_v /= np.linalg.norm(o_v)  # Normalize the orientation vector\n",
    "\n",
    "\n",
    "\n",
    "    R = np.array([n, o_v, a_v]).T  # Rotation matrix\n",
    "\n",
    "    # Apply transformation\n",
    "    rotated_p = R @ p\n",
    "\n",
    "    return rotated_p\n"
   ]
  },
  {
   "cell_type": "code",
   "execution_count": 16,
   "metadata": {},
   "outputs": [
    {
     "name": "stdout",
     "output_type": "stream",
     "text": [
      "\n",
      "=== Testing Two Vector Rotation Implementation ===\n",
      "✅ X-Axis Rotation\n",
      "✅ Y-Axis Rotation\n",
      "✅ Z-Axis Rotation\n",
      "✅ 45-degree Z Rotation\n"
     ]
    }
   ],
   "source": [
    "lab_tester.test_rotation_two_vector(rotation_two_vector)"
   ]
  },
  {
   "cell_type": "code",
   "execution_count": 17,
   "metadata": {},
   "outputs": [],
   "source": [
    "def rotation_eigen_vector(neta: np.ndarray, theta:float, p:np.ndarray) -> np.ndarray:\n",
    "    \"\"\"\n",
    "    Input:\n",
    "        neta    - Eigen vector with eigen value 1\n",
    "        theta   - Angle of rotation about neta\n",
    "        p       - The vector to be transformed\n",
    "    Output: resulting coordinates after appyling the rotation\n",
    "    \"\"\"\n",
    "    # Your code here - Use Rodirgues Formula\n",
    "    theta = np.radians(theta)\n",
    "    neta = neta / np.linalg.norm(neta)\n",
    "    I = np.eye(3)\n",
    "    neta_x = np.array([[0, -neta[2], neta[1]], [neta[2], 0, -neta[0]], [-neta[1], neta[0], 0]])\n",
    "    R = I + np.sin(theta) * neta_x + (1 - np.cos(theta)) * np.dot(neta_x, neta_x)\n",
    "    p = np.dot(R, p)\n",
    "    return p"
   ]
  },
  {
   "cell_type": "code",
   "execution_count": 18,
   "metadata": {},
   "outputs": [
    {
     "name": "stdout",
     "output_type": "stream",
     "text": [
      "\n",
      "=== Testing Eigen Vector Rotation Implementation ===\n",
      "✅ No Rotation\n",
      "✅ 180-degree Z Rotation\n",
      "✅ 90-degree X Rotation\n",
      "✅ 45-degree Y Rotation\n",
      "✅ Negative 90-degree Z Rotation\n"
     ]
    }
   ],
   "source": [
    "lab_tester.test_rotation_eigen_vector(rotation_eigen_vector)"
   ]
  },
  {
   "cell_type": "code",
   "execution_count": 19,
   "metadata": {},
   "outputs": [],
   "source": [
    "def quaternion_multiply(q1, q2):\n",
    "    \"\"\"Multiplies two quaternions.\"\"\"\n",
    "    w1, x1, y1, z1 = q1\n",
    "    w2, x2, y2, z2 = q2\n",
    "    return np.array([\n",
    "        w1*w2 - x1*x2 - y1*y2 - z1*z2,\n",
    "        w1*x2 + x1*w2 + y1*z2 - z1*y2,\n",
    "        w1*y2 - x1*z2 + y1*w2 + z1*x2,\n",
    "        w1*z2 + x1*y2 - y1*x2 + z1*w2\n",
    "    ])\n",
    "\n",
    "\n",
    "def rotation_unit_quaternion(q: np.ndarray, p: np.ndarray) -> np.ndarray:\n",
    "    # Your code here - q: Unit quaternion vector [Real, i, j, k]\n",
    "    # Your code here - p: The vector to be transformed\n",
    "    q = q / np.linalg.norm(q)\n",
    "    \n",
    "    # Convert vector p to quaternion form with zero scalar part\n",
    "    p_q = np.concatenate(([0], p))\n",
    "    \n",
    "    # Compute the conjugate of q\n",
    "    q_conj = np.array([q[0], -q[1], -q[2], -q[3]])\n",
    "    \n",
    "    # Rotate p: p' = q * p_q * q_conj\n",
    "    q_p = quaternion_multiply(q, p_q)\n",
    "    q_p_q_conj = quaternion_multiply(q_p, q_conj)\n",
    "    \n",
    "    # Return the vector part of the resulting quaternion\n",
    "    return q_p_q_conj[1:]"
   ]
  },
  {
   "cell_type": "code",
   "execution_count": 20,
   "metadata": {},
   "outputs": [
    {
     "name": "stdout",
     "output_type": "stream",
     "text": [
      "\n",
      "=== Testing Unit Quaternion Rotation Implementation ===\n",
      "✅ No Rotation\n",
      "✅ 90-degree X Rotation\n",
      "✅ 180-degree Y Rotation\n",
      "✅ 45-degree Z Rotation\n",
      "✅ Negative 90-degree X Rotation\n"
     ]
    }
   ],
   "source": [
    "lab_tester.test_rotation_unit_quaternion(rotation_unit_quaternion)"
   ]
  },
  {
   "cell_type": "code",
   "execution_count": 21,
   "metadata": {},
   "outputs": [],
   "source": [
    "def skew_symmetric(w_x: np.ndarray) -> np.ndarray:\n",
    "    \"\"\"Returns the skew-symmetric matrix of a 3D vector w_x.\"\"\"\n",
    "    return np.array([\n",
    "        [0, -w_x[2], w_x[1]],\n",
    "        [w_x[2], 0, -w_x[0]],\n",
    "        [-w_x[1], w_x[0], 0]\n",
    "    ])\n",
    "\n",
    "def rotation_matrix_exp(w_x : np.ndarray, theta: float, p: np.ndarray) -> np.ndarray:\n",
    "    # Your code here\n",
    "    # w_x: The rotation axis\n",
    "    # theta: The angle of rotation\n",
    "    # p: The vector to be transformed\n",
    "    # Convert angle to radians\n",
    "    theta_rad = np.radians(theta)\n",
    "\n",
    "    # Compute the skew-symmetric matrix of w_x\n",
    "    W_x = skew_symmetric(w_x)\n",
    "    \n",
    "    # Calculate the matrix exponential using the Rodriguez formula\n",
    "    R = np.eye(3) + np.sin(theta_rad) * W_x + (1 - np.cos(theta_rad)) * np.dot(W_x, W_x)\n",
    "    \n",
    "    # Apply the rotation to the point\n",
    "    p_rotated = np.dot(R, p)\n",
    "    \n",
    "    return p_rotated"
   ]
  },
  {
   "cell_type": "code",
   "execution_count": 22,
   "metadata": {},
   "outputs": [
    {
     "name": "stdout",
     "output_type": "stream",
     "text": [
      "\n",
      "=== Testing Matrix Exponential Rotation Implementation ===\n",
      "✅ No Rotation\n",
      "✅ 90-degree X-axis Rotation\n",
      "✅ 90-degree Y-axis Rotation\n",
      "✅ 90-degree Z-axis Rotation\n",
      "✅ 180-degree X-axis Rotation\n",
      "✅ 180-degree Y-axis Rotation\n",
      "✅ 180-degree Z-axis Rotation\n",
      "✅ 45-degree X-axis Rotation\n"
     ]
    }
   ],
   "source": [
    "lab_tester.test_rotation_matrix_exp(rotation_matrix_exp)"
   ]
  }
 ],
 "metadata": {
  "kernelspec": {
   "display_name": "usr",
   "language": "python",
   "name": "python3"
  },
  "language_info": {
   "codemirror_mode": {
    "name": "ipython",
    "version": 3
   },
   "file_extension": ".py",
   "mimetype": "text/x-python",
   "name": "python",
   "nbconvert_exporter": "python",
   "pygments_lexer": "ipython3",
   "version": "3.12.3"
  }
 },
 "nbformat": 4,
 "nbformat_minor": 2
}
